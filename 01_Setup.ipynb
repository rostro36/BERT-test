{
  "nbformat": 4,
  "nbformat_minor": 0,
  "metadata": {
    "colab": {
      "name": "01. Setup.ipynb",
      "provenance": [],
      "authorship_tag": "ABX9TyN0HPmLJWAyuY2L4HZ+zPsF",
      "include_colab_link": true
    },
    "kernelspec": {
      "name": "python3",
      "display_name": "Python 3"
    }
  },
  "cells": [
    {
      "cell_type": "markdown",
      "metadata": {
        "id": "view-in-github",
        "colab_type": "text"
      },
      "source": [
        "<a href=\"https://colab.research.google.com/github/rostro36/BERT-test/blob/master/01_Setup.ipynb\" target=\"_parent\"><img src=\"https://colab.research.google.com/assets/colab-badge.svg\" alt=\"Open In Colab\"/></a>"
      ]
    },
    {
      "cell_type": "markdown",
      "metadata": {
        "id": "MyWVhIpscXT7",
        "colab_type": "text"
      },
      "source": [
        "Give permission to use My Drive"
      ]
    },
    {
      "cell_type": "code",
      "metadata": {
        "id": "cx3Q0JWrcS2Q",
        "colab_type": "code",
        "colab": {}
      },
      "source": [
        "from google.colab import drive\n",
        "drive.mount('/content/drive')\n",
        "\n",
        "import os\n",
        "os.chdir('/content/drive/My Drive')"
      ],
      "execution_count": null,
      "outputs": []
    },
    {
      "cell_type": "markdown",
      "metadata": {
        "id": "49gPwzjNce8M",
        "colab_type": "text"
      },
      "source": [
        "Clone Partisan-Responses and GraphWriter repo."
      ]
    },
    {
      "cell_type": "code",
      "metadata": {
        "id": "YA8AOOmhc5DS",
        "colab_type": "code",
        "colab": {}
      },
      "source": [
        "!git clone https://github.com/rostro36/Partisan-Responses.git\n",
        "!wget https://github.com/rikdz/GraphWriter/archive/f228420aa48697dfb7a1ced3a62f955031664ed3.zip\n",
        "!unzip f228420aa48697dfb7a1ced3a62f955031664ed3.zip\n",
        "!mv GraphWriter-f228420aa48697dfb7a1ced3a62f955031664ed3 GraphWriter-master\n",
        "!rm f228420aa48697dfb7a1ced3a62f955031664ed3.zip"
      ],
      "execution_count": null,
      "outputs": []
    },
    {
      "cell_type": "markdown",
      "metadata": {
        "id": "_gDFwWdegu9K",
        "colab_type": "text"
      },
      "source": [
        "Alter GraphWriter"
      ]
    },
    {
      "cell_type": "code",
      "metadata": {
        "id": "GquSuSWVgt9w",
        "colab_type": "code",
        "colab": {}
      },
      "source": [
        "!sed -i 's/generics =\\['\\''<method>'\\'','\\''<material>'\\'','\\''<otherscientificterm>'\\'','\\''<metric>'\\'','\\''<task>'\\''\\]/generics =\\['\\''phrase'\\''\\]/g' GraphWriter-master/lastDataset.py\n",
        "!sed -i 's/specials = \"method material otherscientificterm metric task\".split(\" \")/specials = \"phrase\".split(\" \")/g' GraphWriter-master/lastDataset.py"
      ],
      "execution_count": 11,
      "outputs": []
    },
    {
      "cell_type": "markdown",
      "metadata": {
        "id": "engljxJ6eQfv",
        "colab_type": "text"
      },
      "source": [
        "Download data from [Stanford](https://data.stanford.edu/congress_text#download-data)"
      ]
    },
    {
      "cell_type": "code",
      "metadata": {
        "id": "LeLi5VG5eURY",
        "colab_type": "code",
        "colab": {}
      },
      "source": [
        "!wget https://stacks.stanford.edu/file/druid:md374tz9962/hein-bound.zip\n",
        "!unzip hein-bound.zip"
      ],
      "execution_count": null,
      "outputs": []
    },
    {
      "cell_type": "markdown",
      "metadata": {
        "id": "JOSUh2MLfGTr",
        "colab_type": "text"
      },
      "source": [
        "There should now be three folders in My Drive:\n",
        "- Partisan-Responses-master\n",
        "- GraphWriter-master\n",
        "- hein-bound"
      ]
    }
  ]
}